{
 "cells": [
  {
   "cell_type": "markdown",
   "metadata": {},
   "source": [
    "# 中国R语言会议(广州)暨华南地区数据科学会议"
   ]
  },
  {
   "cell_type": "markdown",
   "metadata": {},
   "source": [
    "### 第一场 工业大数据 宗福季 香港科技大学"
   ]
  },
  {
   "cell_type": "markdown",
   "metadata": {},
   "source": [
    "第四次工业革命 工业4.0：基于网络-物理系统  \n",
    "《中国制造2025》的基本方针：创新驱动、质量为先、绿色发展、结构优化、人才为本"
   ]
  },
  {
   "cell_type": "markdown",
   "metadata": {},
   "source": [
    "提升质量的创新工具：  \n",
    "突破式创新 Breakthrough Innovation：创意式解决问题（设计思维）  \n",
    "渐进式创新 Incremental Innovation：分析式解决问题（统计思维）"
   ]
  },
  {
   "cell_type": "markdown",
   "metadata": {},
   "source": [
    "大数据的特性：  \n",
    "high-volume高容量、high-velocity高速度、high-variety多种类"
   ]
  },
  {
   "cell_type": "markdown",
   "metadata": {},
   "source": [
    "工业大数据分析的层次：  \n",
    "level1.只使用经验，不考虑数据；    \n",
    "level2.收集数据，但是只看数字；  \n",
    "level3.收集并整理数据，使用图表来展示数据；  \n",
    "level4.收集调查数据并使用描述性统计量；\n",
    "level5.收集采样数据并使用描述性统计量；  \n",
    "level6.收集采样数据并使用统计推断、预测；  \n",
    "level7.使用实时的传感器数据并描述性的总结、可视化；  \n",
    "level8.使用实时的传感器数据并建立统计模型，进行推断、预测，并用于决策。"
   ]
  },
  {
   "cell_type": "markdown",
   "metadata": {},
   "source": [
    "机遇：工业大数据+机器学习  \n",
    "质量大数据为例：数据收集、数据分析、质量提升、质量控制"
   ]
  },
  {
   "cell_type": "markdown",
   "metadata": {},
   "source": [
    "迁移学习：让现有的模型算法稍加调整即可应用于一个新的领域和功能。迁移学习用已有的知识来解决目标领域中仅有少量有标签样本数据甚至没有数据的学习问题，从根本上放宽了传统机器学习的基本假设（训练样本与测试样本满足独立同分布的假设和必须有足够可利用的训练样本假设）   \n",
    "统计迁移学习之应用：山体滑坡检测、3D打印、地铁客流及拥挤度监控"
   ]
  },
  {
   "cell_type": "markdown",
   "metadata": {},
   "source": [
    "### 第二场 利用RMarkdown快速实现定制化报表 谢佳标 跨越速运"
   ]
  },
  {
   "cell_type": "markdown",
   "metadata": {},
   "source": [
    "最常用输出格式：html, pdf, word，RMarkdown亦可写PPT  \n",
    "xaringan, tufte, rticles, mosaic等扩展包提供了丰富的文档模板  \n",
    "RMarkdown支持调用Python语言，可以利用Python运行数据制作报表"
   ]
  },
  {
   "cell_type": "markdown",
   "metadata": {},
   "source": [
    "### 第三场 互联网数据与应用微观经济学 谷一桢 暨南大学"
   ]
  },
  {
   "cell_type": "markdown",
   "metadata": {},
   "source": [
    "电子商务与经济发展、地铁建设与城市拥堵问题（充分利用互联网数据，如百度地图）"
   ]
  },
  {
   "cell_type": "markdown",
   "metadata": {},
   "source": [
    "### 第四场 R语言之高维数据可视化 张杰 香港理工大学"
   ]
  },
  {
   "cell_type": "markdown",
   "metadata": {},
   "source": [
    "数据可视化是关于数据之视觉表现形式的研究，主要旨在借助图形化手段，清晰有效地传达与沟通信息。"
   ]
  },
  {
   "cell_type": "markdown",
   "metadata": {},
   "source": [
    "除数据可视化，其余程序使用Python。R语言在绘图方面具有巨大优势，例如流行的ggplot2包。  \n",
    "高维数据可视化的重要目标就是将高维数据呈现于二维或三维空间，数据降维方法有线性方法和非线性方法。"
   ]
  },
  {
   "cell_type": "markdown",
   "metadata": {},
   "source": [
    "高维数据可视化方法：  \n",
    "●矩阵散点图：一定要结合相关系数，左下绘图，右上显示相关系数  \n",
    "●热力图  \n",
    "●马赛克图  \n",
    "●平行坐标系：发现数据规律比较困难，需要对应特殊函数图  \n",
    "●径向坐标法：可以帮助快速发现聚类类别信息  \n",
    "●图标法：不方便解读数据，可以展示数据  \n",
    "●星形图  \n",
    "●柱形图；柱形图矩阵  \n",
    "●花形图（原创）：花瓣大小对应数值大小，每个花瓣对应一个类别（如4瓣），加上横轴、纵轴，此处为7维  \n",
    "●切尔诺夫脸谱图  \n",
    "●邮票图表：有些省份太小，导致数据可读性有差异。可使用蜂巢形式改进"
   ]
  },
  {
   "cell_type": "markdown",
   "metadata": {},
   "source": [
    "可关注公众号EasyChart。"
   ]
  },
  {
   "cell_type": "markdown",
   "metadata": {},
   "source": [
    "### 第五场 应用人工智能在金融科技(Applied AI in FinTech) 张爱军 香港大学"
   ]
  },
  {
   "cell_type": "markdown",
   "metadata": {},
   "source": [
    "tSNE：tSNE对高维中的分布采用对称SNE中的做法。该方法是流形（非线性）数据降维的经典，相比PCA等线性方法能有效将数据投影到低维空间并保持严格的分割界面；缺点是计算复杂度大，一般推荐先线性降维然后再用tSNE降维。python sklearn有相应的实现。  \n",
    "tSNE的核心思想是：把高维数据看做高维空间中的点xi，然后用流形方法将其映射到低维空间中的yi，要求保持其空间距离。即高维空间相距较近/远的点，映射到低维空间中仍然较近/远。  \n",
    "最近几年，t分布随机邻近嵌入（tSNE）算法已经成为最常用的高维数据分析工具，它经常能提供有深度的见解。在TensorFlow嵌入项目和TensorBoard中用tSNE解释深度神经网络的输出时，其中一个强大的特征是，tSNE在使用时只需要稍微调整参数，就能在不同规模下展现高维数据点的聚类。尽管有这个优点，tSNE算法计算时候的复杂程度也限制了它在很多小数据集上的应用。虽然已经有一些针对这个问题的解决方法（主要关注点在数据点之间相似度计算的可扩展性上），但目前为止当可视化大数据及使用tSNE嵌入时，它们还不能提供真正的互动体验。"
   ]
  },
  {
   "cell_type": "markdown",
   "metadata": {},
   "source": [
    "Applied AI in FinTech:  \n",
    "AI for fighting financial crime: fraud detection, money laundering  \n",
    "Quantitative risk management  \n",
    "Investment strategy  \n",
    "Blockchain, Creyptocurrency(BitCoin, Crypto index)  \n",
    "Customer service"
   ]
  },
  {
   "cell_type": "markdown",
   "metadata": {},
   "source": [
    "Random forest效果很好，但不容易被解释，被视为黑箱模型；"
   ]
  },
  {
   "cell_type": "markdown",
   "metadata": {},
   "source": [
    "Topic 1: Multi-time Super Model  \n",
    "Topic 2: Explainable Neural Network  \n",
    "Machine learning hits explainability barrier. These are black boxes. Problems can arise if you use them blindly. 此外，模型解释涉及监管问题。  "
   ]
  },
  {
   "cell_type": "markdown",
   "metadata": {},
   "source": [
    "SOSxNN Architecture 可解释模型  \n",
    "S:Sparse additive subnetworks  \n",
    "O:Orthogonal projection pursuit  \n",
    "S:Smooth functional approximation"
   ]
  },
  {
   "cell_type": "markdown",
   "metadata": {},
   "source": [
    "SOSxNN Application to Lending Club Dataset, 效果不如Random forest，但好于Logistic，且该神经网络设计为可解释"
   ]
  },
  {
   "cell_type": "markdown",
   "metadata": {},
   "source": [
    "机器学习算法很多超参，调参工作量很大"
   ]
  },
  {
   "cell_type": "markdown",
   "metadata": {},
   "source": [
    "R有深度学习的包Keras，但结构多为已经设计好，难以灵活调整，不如Python"
   ]
  },
  {
   "cell_type": "markdown",
   "metadata": {},
   "source": [
    "### 第六场 用R包做高维数据回归分析 全世杰 中山大学"
   ]
  },
  {
   "cell_type": "markdown",
   "metadata": {},
   "source": [
    "最优子集回归：p很大会导致过拟合，加限制β的L0范数≤t"
   ]
  },
  {
   "cell_type": "markdown",
   "metadata": {},
   "source": [
    "正则化方法：Lasso（L1范数）,SCAD,MCP,Adaptive Lasso"
   ]
  },
  {
   "cell_type": "markdown",
   "metadata": {},
   "source": [
    "应用价值：最优子集回归或者正则化回归通常可以用于统计建模。比如做回归、分类、生存分析等，还可以做变量筛选  \n",
    "其他方向：压缩感知、信息去噪、全基因组关联分析  "
   ]
  },
  {
   "cell_type": "markdown",
   "metadata": {},
   "source": [
    "Trend Filtering  \n",
    "L0 Trend Filtering: 正则项变为λ||Dβ||（0范数），D为惩罚矩阵  "
   ]
  },
  {
   "cell_type": "markdown",
   "metadata": {},
   "source": [
    "传统算法  \n",
    "●穷举法  \n",
    "bestglm  \n",
    "●分支定界算法（Branch-and-Bound algorithm）  \n",
    "leaps  \n",
    "bestglm  \n",
    "●逐步回归（stepwise）  \n",
    "step function  \n",
    "bestglm\n",
    "传统算法缺点：高维时很慢！"
   ]
  },
  {
   "cell_type": "markdown",
   "metadata": {},
   "source": [
    "前沿算法  \n",
    "●IHT（Iterative hard thresholding）  \n",
    "●ADMM（Alternating Direction Method of Multipliers）  \n",
    "●MIO（Mixed integer optimization）\n",
    "●坐标下降法    \n",
    "●PDAS（Primal-dual active set）\n",
    "可以高效处理p＞10000的情况，处理高维数据建议使用前沿算法"
   ]
  },
  {
   "cell_type": "markdown",
   "metadata": {},
   "source": [
    "如何筛选超参数  \n",
    "超参数：在机器学习的上下文中，超参数是在开始学习过程之前设置值的参数，而不是通过训练得到的参数数据。通常情况下，需要对超参数进行优化，给学习机选择一组最优超参数，以提高学习的性能和效果。  \n",
    "模型效果对超参数非常敏感  \n",
    "筛选方法：  \n",
    "●给定指定个数的超参数序列  \n",
    "IC准则，例如AIC,BIC  \n",
    "交叉验证  \n",
    "●黄金分割  \n",
    "由于本来训练过程就长，加入超参数的对比和训练会将时间增长几倍，因此超参数是棘手的话题"
   ]
  },
  {
   "cell_type": "markdown",
   "metadata": {},
   "source": [
    "自己动手写包需要Coding能力和数学知识，可以带来对算法的理解、对数据的理解、paper"
   ]
  },
  {
   "cell_type": "markdown",
   "metadata": {},
   "source": [
    "BeSS包介绍：https://cran.r-project.org/web/packages/BeSS/index.html  \n",
    "An implementation of best subset selection in generalized linear model and Cox proportional hazard model via the primal dual active set algorithm proposed by Wen, C., Zhang, A., Quan, S. and Wang, X. (2017) <arXiv:1709.06254>. The algorithm formulates coefficient parameters and residuals as primal and dual variables and utilizes efficient active set selection strategies based on the complementarity of the primal and dual variables.  "
   ]
  },
  {
   "cell_type": "markdown",
   "metadata": {},
   "source": [
    "Rcpp包：高效地在R中使用C++"
   ]
  },
  {
   "cell_type": "markdown",
   "metadata": {},
   "source": [
    "S3泛型函数  \n",
    "S3对象：基于泛型函数的面向对象机制"
   ]
  },
  {
   "cell_type": "markdown",
   "metadata": {},
   "source": [
    "### 第七场 基于社交网络分析的推荐系统研究 卲平 索信达公司"
   ]
  },
  {
   "cell_type": "markdown",
   "metadata": {},
   "source": [
    "常用推荐算法  \n",
    "●基于流行度的算法  \n",
    "简单，适用刚注册的新用户，但无法提供个性化的推荐  \n",
    "●协同过滤算法  \n",
    "简单，准确率较高，但面临冷启动和矩阵稀疏问题  \n",
    "●基于内容的算法  \n",
    "能很好的解决冷启动问题，但面临过度专业化问题  "
   ]
  },
  {
   "cell_type": "markdown",
   "metadata": {},
   "source": [
    "为什么利用社交网络信息？ 用户的决策过程常常会考虑周边朋友或熟人的评价信息。  "
   ]
  },
  {
   "cell_type": "markdown",
   "metadata": {},
   "source": [
    "社交网络的表达及应用：  \n",
    "精准营销、团伙欺诈识别、传播路径分析"
   ]
  },
  {
   "cell_type": "markdown",
   "metadata": {},
   "source": [
    "基于社交网络的推荐算法\n",
    "算法目标：构建基于用户偏好、商品流行度及用户好友评价信息已知条件下的一个用户对商品评分的条件概率分布模型。  \n",
    "假设用户偏好、商品流行度和好友反馈信息对用户的评分影响是互相独立的，运用朴素贝叶斯的独立分布公式；    \n",
    "已知商品的流行度，根据朴素贝叶斯的特征独立假设，假设用户的各个属性特点之间是独立的；  \n",
    "已知用户好友评价信息，用户U和他的朋友V对产品I的评价的关系可以表示为R(UI)=R(VI)+e，e为用户U和朋友V对I的评价的差异，可以根据U和I历史数据计算残差e的分布；  "
   ]
  },
  {
   "cell_type": "markdown",
   "metadata": {},
   "source": [
    "待完善之处  \n",
    "●如何有选择性的使用社交网络圈子里朋友的反馈信息？  \n",
    "●当直接好友对商品的评论缺失该怎么办？"
   ]
  },
  {
   "cell_type": "markdown",
   "metadata": {},
   "source": [
    "Q&A 数据来源及用户隐私？  \n",
    "很多电商网站都会除了商品销售外，引入点评信息，例如腾讯入股美团。隐私数据会有限制，例如微信如果好友没有关注则看不到。"
   ]
  },
  {
   "cell_type": "markdown",
   "metadata": {},
   "source": [
    "### 第八场 “固收+”基金的量化理财之道 梁淇俊 广州越秀鲲鹏私募证券投资基金管理有限公司"
   ]
  },
  {
   "cell_type": "markdown",
   "metadata": {},
   "source": [
    "内容：“固收+”概念、我的“固收+”、“+”策略的原则、如何让期权成为“+”"
   ]
  },
  {
   "cell_type": "markdown",
   "metadata": {},
   "source": [
    "“+”策略的原则  \n",
    "特级策略：R=C，即每一次的交易收益是固定的，在下单的一瞬间就固定了收益，最多只是期间会发生波动，甚至回撤，但最终受益不会变，如期现套利、ETF折溢价套利（T+0）等。属市场明显的定价错误，回测只能体现其波动，收益将与计算的理论收益一致。  \n",
    "一级策略：在一定合理的假设下，能确认期望收益是恒定的，并且E(R)=C>0及从回测中能发现R的估计均值显著大于0。如期货合约跨期套利、ETF折溢价套利(T+1)等。该类策略的核心不在于发现某次机会的折溢价有多大，从经验来看，在T+1的市场，若趋势相反，一般瞬时存在的折溢价难以覆盖趋势的亏损。"
   ]
  },
  {
   "cell_type": "markdown",
   "metadata": {},
   "source": [
    "作为buy-side的期权基本功  \n",
    "●Delta  \n",
    "期权价格对标的价格的偏导数，意为当标的价格变动一个单位时，该期权的价格变动多少  \n",
    "●Gamma  \n",
    "期权价格对标的价格的二阶导数，意为当价格变动一个单位时，该期权的Delta变动多少  \n",
    "●Theta  \n",
    "期权价格对时间的偏导数，意为当时间变动一个单位时，该期权的价格变动多少  \n",
    "●Vega  \n",
    "期权价格对预期波动率的偏导数，意为当预期波动率变动一个单位时，该期权的价格变动多少  \n",
    "●Rho  \n",
    "期权价格对无风险收益率的偏导数"
   ]
  },
  {
   "cell_type": "markdown",
   "metadata": {},
   "source": [
    "当时间价值变得足够高，sell-option就会变得有利可图。"
   ]
  },
  {
   "cell_type": "markdown",
   "metadata": {},
   "source": [
    "### 第九场 R在寿险公司的实践 顾向东 MassMutual Financial Group"
   ]
  },
  {
   "cell_type": "markdown",
   "metadata": {},
   "source": [
    "数据项目流程：项目评估-数据准备-建模-试点应用和模型运营  \n",
    "软件工具：GitHub, docker, Spark, vertica, Jenkins, amazon web services, hadoop  "
   ]
  },
  {
   "cell_type": "markdown",
   "metadata": {},
   "source": [
    "数据系统架构  \n",
    "内部数据+外部数据 - 数据导入 - 数据湖AmazonS3 - 数据清理整合 - Vertica - 模型训练 - MongoDB存储模型对象 - R Shiny服务器、API服务器  \n",
    "GitHub - 代码(R,Python) - Jenkins自动化  \n",
    "R可以参与每一个步骤"
   ]
  },
  {
   "cell_type": "markdown",
   "metadata": {},
   "source": [
    "代码合作  \n",
    "●一个项目，如果协调多人合作代码  \n",
    "●如果追踪代码历史记录和版本  \n",
    "●如果有效持续更新代码并反映到各个数据流程  \n",
    "可以使用GitHub各自push code，最后到Jenkins服务器跑代码"
   ]
  },
  {
   "cell_type": "markdown",
   "metadata": {},
   "source": [
    "命令行运行R代码  \n",
    "●服务器运行R代码，一般是通过命令行  \n",
    "●R代码可以看作独立的一个程序完成一个任务，比如整合数据上传到SQL"
   ]
  },
  {
   "cell_type": "markdown",
   "metadata": {},
   "source": [
    "R-数据导入  \n",
    "R可以很好地和各种数据源有效连接和处理"
   ]
  },
  {
   "cell_type": "markdown",
   "metadata": {},
   "source": [
    "R-SQL数据库连接  \n",
    "三种连接方式：  \n",
    "●原生驱动，比如RpostgreSQL，并不是每个数据库都有  \n",
    "●ODBC  \n",
    "●JDBC  \n",
    "推荐JDBC，适用各种数据库，并且连接方式类似；适应各种平台，不需要单独配置，同样代码可以在不同操作系统运行，适合合作和代码部署，ODBC配置服务器比较快；只需要一个jar驱动文件，可以放在R包里面；JDBC比ODBC快并安全；缺点是需要rjava，有时候会有各种安装问题"
   ]
  },
  {
   "cell_type": "markdown",
   "metadata": {},
   "source": [
    "R建模  \n",
    "●R有很多模型开发包比如xgboost, randomForest, glm, glmnet"
   ]
  },
  {
   "cell_type": "markdown",
   "metadata": {},
   "source": [
    "R包版本控制 一致性  \n",
    "●不同开发者，生产环境包版本不同会产生很多问题和错误  \n",
    "●例子：开发者的R包有函数funA, 服务器没有因为版本老，产生错误，更新会影响别的项目  \n",
    "●R缺乏很好的版本控制工具，python有很成熟的工具，导致很多公司偏好Python应用到生产环境  \n",
    "●两个解决办法，但是都不是非常有效和方便  \n",
    "packrat：问题是比较难保证R版本的统一性，用户之间R版本可能不同，会导致问题    \n",
    "docker"
   ]
  },
  {
   "cell_type": "markdown",
   "metadata": {},
   "source": [
    "密码管理   \n",
    "●一般密码隐私信息不可以放在代码里面  \n",
    "●密码隐私信息可以储存在环境变量，在R用Sys.getenv函数来调用  "
   ]
  },
  {
   "cell_type": "markdown",
   "metadata": {},
   "source": [
    "R Shiny  \n",
    "●R Shiny可以快速搭建交互式网络应用App  \n",
    "●项目中大量使用了R Shiny来搭建可视化仪表盘，数据工具  \n",
    "●项目例子  \n",
    "产品销售报告和客户分布可视化  \n",
    "投资管理报表系统和信用风险管理  \n",
    "欺诈预警系统  \n",
    "数据输入系统  \n",
    "●Shiny允许很容易添加其它javascript库  \n",
    "●我们开发开源了一个包dcr，来结合dc.js, d3.js, crossfilter.js"
   ]
  },
  {
   "cell_type": "markdown",
   "metadata": {},
   "source": [
    "R API服务  \n",
    "R模型通过API服务的方式可以很容易和别的系统结合，比如网页，IT系统，手机APP，对方无需安装R  \n",
    "R API服务器：OpenCPU, plumber, alteryx promote, DeployR, Clipper, 内部搭建用Python Flask等工具"
   ]
  },
  {
   "cell_type": "markdown",
   "metadata": {},
   "source": [
    "数据模型产品化  \n",
    "●数据模型可以开发成产品，提供给外部客户使用，并产生收益  \n",
    "●Lifescore360可以为别的保险公司提供API服务来进行死亡风险评估和自动核保，背后是很多使用R创建的模型"
   ]
  },
  {
   "cell_type": "markdown",
   "metadata": {},
   "source": [
    "### 第十场 AI技术与智能投放机器人 游皓麟 Tap4fun"
   ]
  },
  {
   "cell_type": "markdown",
   "metadata": {},
   "source": [
    "AI大致分为两个领域：  \n",
    "Data driven domain: e-Retail, Finance, Industry, Medical, Assistant  \n",
    "Tech driven domain: Security, U-Home, Consumer Electronics, Autopilot, Education"
   ]
  },
  {
   "cell_type": "markdown",
   "metadata": {},
   "source": [
    "广告投放成本太高，对人力成本控制成为困难。所以需要智能投放机器人，解决成本线性增长魔咒  "
   ]
  },
  {
   "cell_type": "markdown",
   "metadata": {},
   "source": [
    "梯度下降法、牛顿法等不能直接解决问题"
   ]
  },
  {
   "cell_type": "markdown",
   "metadata": {},
   "source": [
    "使用遗传算法Genetic Optimisation  \n",
    "NEAT算法，is an evolutionary algorithm for creating artificial nerual network  \n",
    "Hyper-NEAT算法，is an improved version of the NEAT algorithm, using CPPNs"
   ]
  },
  {
   "cell_type": "markdown",
   "metadata": {},
   "source": [
    "### 第十一场 数据赋能零售商业的应用和挑战 梁冠章 邓韩贝公司"
   ]
  },
  {
   "cell_type": "markdown",
   "metadata": {},
   "source": [
    "基于历史交易数据的精准营销，精确度可提高25倍  \n",
    "数据革命重新定义“客户至上”"
   ]
  },
  {
   "cell_type": "markdown",
   "metadata": {},
   "source": [
    "●客流预测优化  \n",
    "上海机场公共交通优化，气候信息、出租车信息、航班信息、地铁信息。气候信息在时间序列中短期有效  \n",
    "模型可能互相打架。"
   ]
  },
  {
   "cell_type": "markdown",
   "metadata": {},
   "source": [
    "●复购预测  \n",
    "流失会员原因分析：商品特征对于顾客流失情况的解释  \n",
    "商品维度、时间维度、促销维度、价格为度 159个变量，其中26个显著"
   ]
  },
  {
   "cell_type": "markdown",
   "metadata": {},
   "source": [
    "●爬虫及语义分析  \n",
    "评论关键字，评分及评论数量搜集，正面/负面评价判定"
   ]
  },
  {
   "cell_type": "markdown",
   "metadata": {},
   "source": [
    "### 第十二场 产品空间下中国出口演化进程 李珊 中山大学"
   ]
  },
  {
   "cell_type": "markdown",
   "metadata": {},
   "source": [
    "“产品空间”（Product Space)理论的提出，科学具象化了贸易产品间的邻近性，量化国家在全球贸易网络中的地位与升级路径，为地区产业发展提供了复杂网络方法的新视角。  \n",
    "产品空间理论提出，两个产品生产过程中需求生产要素与制度等，它们就会倾向同时生产，两个不相似的产品则不太可能同时生产。"
   ]
  },
  {
   "cell_type": "markdown",
   "metadata": {},
   "source": [
    "●测度比较优势  \n",
    "类似于区位商的计算方法。测度：某个国家产品的出口的比较优势。  \n",
    "RCA大于1，表示地区在生产该产品上具有比较优势。\n"
   ]
  },
  {
   "cell_type": "markdown",
   "metadata": {},
   "source": [
    "研究数据与方法  \n",
    "●计算邻近性  \n",
    "用条件概率测度两个产品之间的邻近程度。  \n",
    "两优势产品同时出口的概率越大，邻近程度越大  \n",
    "●可视化产品空间  \n",
    "构建产品邻近性矩阵，结合“最大生成树”的原理算法，采用“力引导”布局，将产品之间的关系可视化生成清晰的产品空间网络  \n",
    "产品空间具有明显的核心——外围结构  \n",
    "核心位置的贸易产品，与周边产品具有更为普遍的强邻近性，能产生更大的带动力，更容易相互转化（邻近性都为0.5以上）  "
   ]
  },
  {
   "cell_type": "markdown",
   "metadata": {},
   "source": [
    "宏观格局  \n",
    "经济全球化背景下，产品间的邻近性日益增强。  \n",
    "2011年产品空间结构异质性非常明显，出现了明显的三大集群。"
   ]
  },
  {
   "cell_type": "markdown",
   "metadata": {},
   "source": [
    "横向——国际比较  \n",
    "发达国家（美日德）产品主要位于网络核心区域，发展中国家（中印越）出口的强优势产品均分布在核心度低的外围地区  \n",
    "纵向——中国演化现象及机制  \n",
    "中国优势产品正在转型升级，发展高贸易额和附加值的产品。"
   ]
  }
 ],
 "metadata": {
  "kernelspec": {
   "display_name": "R",
   "language": "R",
   "name": "ir"
  },
  "language_info": {
   "codemirror_mode": "r",
   "file_extension": ".r",
   "mimetype": "text/x-r-source",
   "name": "R",
   "pygments_lexer": "r",
   "version": "3.4.3"
  }
 },
 "nbformat": 4,
 "nbformat_minor": 2
}
